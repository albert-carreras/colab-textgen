{
  "cells": [
    {
      "cell_type": "markdown",
      "metadata": {
        "id": "view-in-github",
        "colab_type": "text"
      },
      "source": [
        "<a href=\"https://colab.research.google.com/github/albert-carreras/colab-textgen/blob/main/TextGen.ipynb\" target=\"_parent\"><img src=\"https://colab.research.google.com/assets/colab-badge.svg\" alt=\"Open In Colab\"/></a>"
      ]
    },
    {
      "cell_type": "code",
      "execution_count": null,
      "metadata": {
        "colab": {
          "background_save": true
        },
        "id": "f7TVVj_z4flw",
        "outputId": "0aebc916-7e62-445b-e9e9-b744c99f5e3b"
      },
      "outputs": [
        {
          "data": {
            "text/html": [
              "<audio src=\"https://oobabooga.github.io/silence.m4a\" controls>\n"
            ],
            "text/plain": [
              "<IPython.core.display.HTML object>"
            ]
          },
          "metadata": {},
          "output_type": "display_data"
        }
      ],
      "source": [
        "#@title 1. Keep this tab alive to prevent Colab from disconnecting you { display-mode: \"form\" }\n",
        "\n",
        "#@markdown Press play on the music player that will appear below:\n",
        "%%html\n",
        "<audio src=\"https://oobabooga.github.io/silence.m4a\" controls>"
      ]
    },
    {
      "cell_type": "code",
      "execution_count": null,
      "metadata": {
        "cellView": "form",
        "id": "LGQ8BiMuXMDG"
      },
      "outputs": [],
      "source": [
        "#@title 2. Install the web UI\n",
        "install_gptq = True #@param {type:\"boolean\"}\n",
        "from IPython.display import clear_output\n",
        "\n",
        "model_dir = '/content/text-generation-webui/models'\n",
        "repo_dir = '/content/text-generation-webui'\n",
        "%cd /content\n",
        "!git clone https://github.com/oobabooga/text-generation-webui\n",
        "!mkdir text-generation-webui/logs\n",
        "!ln -s text-generation-webui/logs .\n",
        "!ln -s text-generation-webui/characters .\n",
        "!ln -s text-generation-webui/models .\n",
        "%rm -r sample_data\n",
        "%cd text-generation-webui\n",
        "!wget https://raw.githubusercontent.com/pcrii/Philo-Colab-Collection/main/settings-colab-template.json -O settings-colab-template.json\n",
        "\n",
        "!pip install -r requirements.txt\n",
        "\n",
        "%mkdir /content/text-generation-webui/repositories/\n",
        "%cd /content/text-generation-webui/repositories/\n",
        "!git clone https://github.com/oobabooga/GPTQ-for-LLaMa.git -b cuda\n",
        "%cd GPTQ-for-LLaMa\n",
        "!pip install ninja\n",
        "!pip install -r requirements.txt\n",
        "!python setup_cuda.py install\n",
        "clear_output()"
      ]
    },
    {
      "cell_type": "code",
      "execution_count": null,
      "metadata": {
        "colab": {
          "base_uri": "https://localhost:8080/"
        },
        "id": "hKuocueuXnm5",
        "outputId": "d4ce2dc1-9bc8-410d-ad15-9d65e0e43516"
      },
      "outputs": [
        {
          "name": "stdout",
          "output_type": "stream",
          "text": [
            "Fri Apr 21 09:22:04 2023       \n",
            "+-----------------------------------------------------------------------------+\n",
            "| NVIDIA-SMI 525.85.12    Driver Version: 525.85.12    CUDA Version: 12.0     |\n",
            "|-------------------------------+----------------------+----------------------+\n",
            "| GPU  Name        Persistence-M| Bus-Id        Disp.A | Volatile Uncorr. ECC |\n",
            "| Fan  Temp  Perf  Pwr:Usage/Cap|         Memory-Usage | GPU-Util  Compute M. |\n",
            "|                               |                      |               MIG M. |\n",
            "|===============================+======================+======================|\n",
            "|   0  Tesla T4            Off  | 00000000:00:04.0 Off |                    0 |\n",
            "| N/A   31C    P8     8W /  70W |      0MiB / 15360MiB |      0%      Default |\n",
            "|                               |                      |                  N/A |\n",
            "+-------------------------------+----------------------+----------------------+\n",
            "                                                                               \n",
            "+-----------------------------------------------------------------------------+\n",
            "| Processes:                                                                  |\n",
            "|  GPU   GI   CI        PID   Type   Process name                  GPU Memory |\n",
            "|        ID   ID                                                   Usage      |\n",
            "|=============================================================================|\n",
            "|  No running processes found                                                 |\n",
            "+-----------------------------------------------------------------------------+\n",
            "python server.py --share --chat\n",
            "Gradio HTTP request redirected to localhost :)\n",
            "Warning: the gradio \"share link\" feature downloads a proprietary and\n",
            "unaudited blob to create a reverse tunnel. This is potentially dangerous.\n",
            "\n",
            "2023-04-21 09:22:11.219000: W tensorflow/compiler/tf2tensorrt/utils/py_utils.cc:38] TF-TRT Warning: Could not find TensorRT\n",
            "bin /usr/local/lib/python3.9/dist-packages/bitsandbytes/libbitsandbytes_cuda118.so\n",
            "Loading the extension \"gallery\"... Ok.\n",
            "Running on local URL:  http://127.0.0.1:7860\n",
            "Running on public URL: https://2b8352624edd0c3eaa.gradio.live\n",
            "\n",
            "This share link expires in 72 hours. For free permanent hosting and GPU upgrades (NEW!), check out Spaces: https://huggingface.co/spaces\n",
            "\u001b[31mERROR\u001b[0m:    Exception in ASGI application\n",
            "Traceback (most recent call last):\n",
            "  File \"/usr/local/lib/python3.9/dist-packages/uvicorn/protocols/websockets/websockets_impl.py\", line 254, in run_asgi\n",
            "    result = await self.app(self.scope, self.asgi_receive, self.asgi_send)\n",
            "  File \"/usr/local/lib/python3.9/dist-packages/uvicorn/middleware/proxy_headers.py\", line 78, in __call__\n",
            "    return await self.app(scope, receive, send)\n",
            "  File \"/usr/local/lib/python3.9/dist-packages/fastapi/applications.py\", line 276, in __call__\n",
            "    await super().__call__(scope, receive, send)\n",
            "  File \"/usr/local/lib/python3.9/dist-packages/starlette/applications.py\", line 122, in __call__\n",
            "    await self.middleware_stack(scope, receive, send)\n",
            "  File \"/usr/local/lib/python3.9/dist-packages/starlette/middleware/errors.py\", line 149, in __call__\n",
            "    await self.app(scope, receive, send)\n",
            "  File \"/usr/local/lib/python3.9/dist-packages/starlette/middleware/cors.py\", line 76, in __call__\n",
            "    await self.app(scope, receive, send)\n",
            "  File \"/usr/local/lib/python3.9/dist-packages/starlette/middleware/exceptions.py\", line 79, in __call__\n",
            "    raise exc\n",
            "  File \"/usr/local/lib/python3.9/dist-packages/starlette/middleware/exceptions.py\", line 68, in __call__\n",
            "    await self.app(scope, receive, sender)\n",
            "  File \"/usr/local/lib/python3.9/dist-packages/fastapi/middleware/asyncexitstack.py\", line 21, in __call__\n",
            "    raise e\n",
            "  File \"/usr/local/lib/python3.9/dist-packages/fastapi/middleware/asyncexitstack.py\", line 18, in __call__\n",
            "    await self.app(scope, receive, send)\n",
            "  File \"/usr/local/lib/python3.9/dist-packages/starlette/routing.py\", line 718, in __call__\n",
            "    await route.handle(scope, receive, send)\n",
            "  File \"/usr/local/lib/python3.9/dist-packages/starlette/routing.py\", line 341, in handle\n",
            "    await self.app(scope, receive, send)\n",
            "  File \"/usr/local/lib/python3.9/dist-packages/starlette/routing.py\", line 82, in app\n",
            "    await func(session)\n",
            "  File \"/usr/local/lib/python3.9/dist-packages/fastapi/routing.py\", line 289, in app\n",
            "    await dependant.call(**values)\n",
            "  File \"/usr/local/lib/python3.9/dist-packages/gradio/routes.py\", line 503, in join_queue\n",
            "    session_info = await asyncio.wait_for(\n",
            "  File \"/usr/lib/python3.9/asyncio/tasks.py\", line 479, in wait_for\n",
            "    return fut.result()\n",
            "  File \"/usr/local/lib/python3.9/dist-packages/starlette/websockets.py\", line 133, in receive_json\n",
            "    self._raise_on_disconnect(message)\n",
            "  File \"/usr/local/lib/python3.9/dist-packages/starlette/websockets.py\", line 105, in _raise_on_disconnect\n",
            "    raise WebSocketDisconnect(message[\"code\"])\n",
            "starlette.websockets.WebSocketDisconnect: 1006\n",
            "\u001b[31mERROR\u001b[0m:    Exception in ASGI application\n",
            "Traceback (most recent call last):\n",
            "  File \"/usr/local/lib/python3.9/dist-packages/uvicorn/protocols/websockets/websockets_impl.py\", line 254, in run_asgi\n",
            "    result = await self.app(self.scope, self.asgi_receive, self.asgi_send)\n",
            "  File \"/usr/local/lib/python3.9/dist-packages/uvicorn/middleware/proxy_headers.py\", line 78, in __call__\n",
            "    return await self.app(scope, receive, send)\n",
            "  File \"/usr/local/lib/python3.9/dist-packages/fastapi/applications.py\", line 276, in __call__\n",
            "    await super().__call__(scope, receive, send)\n",
            "  File \"/usr/local/lib/python3.9/dist-packages/starlette/applications.py\", line 122, in __call__\n",
            "    await self.middleware_stack(scope, receive, send)\n",
            "  File \"/usr/local/lib/python3.9/dist-packages/starlette/middleware/errors.py\", line 149, in __call__\n",
            "    await self.app(scope, receive, send)\n",
            "  File \"/usr/local/lib/python3.9/dist-packages/starlette/middleware/cors.py\", line 76, in __call__\n",
            "    await self.app(scope, receive, send)\n",
            "  File \"/usr/local/lib/python3.9/dist-packages/starlette/middleware/exceptions.py\", line 79, in __call__\n",
            "    raise exc\n",
            "  File \"/usr/local/lib/python3.9/dist-packages/starlette/middleware/exceptions.py\", line 68, in __call__\n",
            "    await self.app(scope, receive, sender)\n",
            "  File \"/usr/local/lib/python3.9/dist-packages/fastapi/middleware/asyncexitstack.py\", line 21, in __call__\n",
            "    raise e\n",
            "  File \"/usr/local/lib/python3.9/dist-packages/fastapi/middleware/asyncexitstack.py\", line 18, in __call__\n",
            "    await self.app(scope, receive, send)\n",
            "  File \"/usr/local/lib/python3.9/dist-packages/starlette/routing.py\", line 718, in __call__\n",
            "    await route.handle(scope, receive, send)\n",
            "  File \"/usr/local/lib/python3.9/dist-packages/starlette/routing.py\", line 341, in handle\n",
            "    await self.app(scope, receive, send)\n",
            "  File \"/usr/local/lib/python3.9/dist-packages/starlette/routing.py\", line 82, in app\n",
            "    await func(session)\n",
            "  File \"/usr/local/lib/python3.9/dist-packages/fastapi/routing.py\", line 289, in app\n",
            "    await dependant.call(**values)\n",
            "  File \"/usr/local/lib/python3.9/dist-packages/gradio/routes.py\", line 503, in join_queue\n",
            "    session_info = await asyncio.wait_for(\n",
            "  File \"/usr/lib/python3.9/asyncio/tasks.py\", line 479, in wait_for\n",
            "    return fut.result()\n",
            "  File \"/usr/local/lib/python3.9/dist-packages/starlette/websockets.py\", line 133, in receive_json\n",
            "    self._raise_on_disconnect(message)\n",
            "  File \"/usr/local/lib/python3.9/dist-packages/starlette/websockets.py\", line 105, in _raise_on_disconnect\n",
            "    raise WebSocketDisconnect(message[\"code\"])\n",
            "starlette.websockets.WebSocketDisconnect: 1006\n",
            "Downloading the model to models/TheBloke_koala-13B-GPTQ-4bit-128g\n",
            "100% 6.63k/6.63k [00:00<00:00, 7.00MiB/s]\n",
            "100% 507/507 [00:00<00:00, 569kiB/s]\n",
            "100% 137/137 [00:00<00:00, 134kiB/s]\n",
            "100% 7.26G/7.26G [01:45<00:00, 68.9MiB/s]\n",
            "100% 33.4k/33.4k [00:00<00:00, 5.94MiB/s]\n",
            "100% 410/410 [00:00<00:00, 582kiB/s]\n",
            "100% 500k/500k [00:00<00:00, 13.4MiB/s]\n",
            "100% 726/726 [00:00<00:00, 875kiB/s]\n",
            "Exception ignored in: <generator object download_model_wrapper at 0x7f28f1035f90>\n",
            "Traceback (most recent call last):\n",
            "  File \"/usr/local/lib/python3.9/dist-packages/anyio/_backends/_asyncio.py\", line 862, in run\n",
            "    context, func, args, future = item\n",
            "RuntimeError: generator ignored GeneratorExit\n",
            "Downloading the model to models/TheBloke_koala-13B-GPTQ-4bit-128g\n"
          ]
        }
      ],
      "source": [
        "#@title 3. Launch\n",
        "import json\n",
        "from IPython.display import clear_output\n",
        "\n",
        "# Parameters\n",
        "\n",
        "chat = True #@param {type:\"boolean\"}\n",
        "\n",
        "model_dir = '/content/text-generation-webui/models'\n",
        "repo_dir = '/content/text-generation-webui'\n",
        "\n",
        "%cd {repo_dir}\n",
        "params = set()\n",
        "\n",
        "if chat:\n",
        "  params.add('--chat')\n",
        "\n",
        "# Starting the web UI\n",
        "cmd = f\"python server.py --share {' '.join(params)}\"\n",
        "clear_output()\n",
        "!nvidia-smi\n",
        "print(cmd)\n",
        "\n",
        "!$cmd\n"
      ]
    },
    {
      "cell_type": "code",
      "execution_count": null,
      "metadata": {
        "colab": {
          "base_uri": "https://localhost:8080/"
        },
        "id": "wDLUEv5xGmEJ",
        "outputId": "2ac79ecb-ce31-4824-e731-77f132fada72"
      },
      "outputs": [
        {
          "name": "stdout",
          "output_type": "stream",
          "text": [
            "/content/text-generation-webui\n",
            "On branch main\n",
            "Your branch is up to date with 'origin/main'.\n",
            "\n",
            "Untracked files:\n",
            "  (use \"git add <file>...\" to include in what will be committed)\n",
            "\t\u001b[31msettings-colab-template.json\u001b[m\n",
            "\n",
            "nothing added to commit but untracked files present (use \"git add\" to track)\n",
            "From https://github.com/oobabooga/text-generation-webui\n",
            " * branch            HEAD       -> FETCH_HEAD\n",
            "Already up to date.\n"
          ]
        }
      ],
      "source": [
        "#@title 4. Update?\n",
        "\n",
        "%cd /content/text-generation-webui\n",
        "!git status\n",
        "!git pull https://github.com/oobabooga/text-generation-webui"
      ]
    },
    {
      "cell_type": "code",
      "execution_count": null,
      "metadata": {
        "cellView": "form",
        "colab": {
          "base_uri": "https://localhost:8080/"
        },
        "id": "xkDjS3c8Pr_3",
        "outputId": "3bd011e7-eee9-40e0-f558-a6ee3601da36"
      },
      "outputs": [
        {
          "name": "stdout",
          "output_type": "stream",
          "text": [
            "--2023-04-21 09:14:27--  https://github.com/pcrii/Philo-Colab-Collection/raw/main/llama.json\n",
            "Resolving github.com (github.com)... 140.82.121.3\n",
            "Connecting to github.com (github.com)|140.82.121.3|:443... connected.\n",
            "HTTP request sent, awaiting response... 302 Found\n",
            "Location: https://raw.githubusercontent.com/pcrii/Philo-Colab-Collection/main/llama.json [following]\n",
            "--2023-04-21 09:14:28--  https://raw.githubusercontent.com/pcrii/Philo-Colab-Collection/main/llama.json\n",
            "Resolving raw.githubusercontent.com (raw.githubusercontent.com)... 185.199.108.133, 185.199.109.133, 185.199.110.133, ...\n",
            "Connecting to raw.githubusercontent.com (raw.githubusercontent.com)|185.199.108.133|:443... connected.\n",
            "HTTP request sent, awaiting response... 200 OK\n",
            "Length: 4475 (4.4K) [text/plain]\n",
            "Saving to: ‘llama.json’\n",
            "\n",
            "llama.json          100%[===================>]   4.37K  --.-KB/s    in 0s      \n",
            "\n",
            "2023-04-21 09:14:28 (63.0 MB/s) - ‘llama.json’ saved [4475/4475]\n",
            "\n"
          ]
        }
      ],
      "source": [
        "#@title optional install \"LLaMa\" character file i found on reddit\n",
        "!wget https://github.com/pcrii/Philo-Colab-Collection/raw/main/llama.json \n",
        "!mv llama.json {repo_dir}/characters\n"
      ]
    }
  ],
  "metadata": {
    "accelerator": "GPU",
    "colab": {
      "provenance": [],
      "include_colab_link": true
    },
    "gpuClass": "standard",
    "kernelspec": {
      "display_name": "Python 3",
      "name": "python3"
    },
    "language_info": {
      "name": "python"
    }
  },
  "nbformat": 4,
  "nbformat_minor": 0
}