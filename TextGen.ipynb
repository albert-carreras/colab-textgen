{
  "cells": [
    {
      "cell_type": "markdown",
      "metadata": {
        "id": "view-in-github",
        "colab_type": "text"
      },
      "source": [
        "<a href=\"https://colab.research.google.com/github/albert-carreras/colab-textgen/blob/main/TextGen.ipynb\" target=\"_parent\"><img src=\"https://colab.research.google.com/assets/colab-badge.svg\" alt=\"Open In Colab\"/></a>"
      ]
    },
    {
      "cell_type": "code",
      "execution_count": null,
      "metadata": {
        "colab": {
          "background_save": true
        },
        "id": "f7TVVj_z4flw",
        "outputId": "0aebc916-7e62-445b-e9e9-b744c99f5e3b"
      },
      "outputs": [
        {
          "data": {
            "text/html": [
              "<audio src=\"https://oobabooga.github.io/silence.m4a\" controls>\n"
            ],
            "text/plain": [
              "<IPython.core.display.HTML object>"
            ]
          },
          "metadata": {},
          "output_type": "display_data"
        }
      ],
      "source": [
        "#@title 1. Keep this tab alive to prevent Colab from disconnecting you { display-mode: \"form\" }\n",
        "\n",
        "#@markdown Press play on the music player that will appear below:\n",
        "%%html\n",
        "<audio src=\"https://oobabooga.github.io/silence.m4a\" controls>"
      ]
    },
    {
      "cell_type": "code",
      "execution_count": 1,
      "metadata": {
        "cellView": "form",
        "id": "LGQ8BiMuXMDG"
      },
      "outputs": [],
      "source": [
        "#@title 2. Install the web UI\n",
        "install_gptq = True #@param {type:\"boolean\"}\n",
        "from IPython.display import clear_output\n",
        "\n",
        "model_dir = '/content/text-generation-webui/models'\n",
        "repo_dir = '/content/text-generation-webui'\n",
        "%cd /content\n",
        "!git clone https://github.com/oobabooga/text-generation-webui\n",
        "!mkdir text-generation-webui/logs\n",
        "!ln -s text-generation-webui/logs .\n",
        "!ln -s text-generation-webui/characters .\n",
        "!ln -s text-generation-webui/models .\n",
        "%rm -r sample_data\n",
        "%cd text-generation-webui\n",
        "!wget https://raw.githubusercontent.com/pcrii/Philo-Colab-Collection/main/settings-colab-template.json -O settings-colab-template.json\n",
        "\n",
        "!pip install -r requirements.txt\n",
        "\n",
        "%mkdir /content/text-generation-webui/repositories/\n",
        "%cd /content/text-generation-webui/repositories/\n",
        "!git clone https://github.com/oobabooga/GPTQ-for-LLaMa.git -b cuda\n",
        "%cd GPTQ-for-LLaMa\n",
        "!pip install ninja\n",
        "!pip install -r requirements.txt\n",
        "!python setup_cuda.py install\n",
        "clear_output()"
      ]
    },
    {
      "cell_type": "code",
      "execution_count": null,
      "metadata": {
        "colab": {
          "base_uri": "https://localhost:8080/"
        },
        "id": "hKuocueuXnm5",
        "outputId": "8692ece7-de81-4701-bc3a-28db7edbef89"
      },
      "outputs": [
        {
          "output_type": "stream",
          "name": "stdout",
          "text": [
            "/content/text-generation-webui\n",
            "[[ ! -f models/$model/config.json ]] && python download-model.py TheBloke/gpt4-alpaca-lora-13B-GPTQ-4bit-128g\n",
            "Downloading the model to models/TheBloke_gpt4-alpaca-lora-13B-GPTQ-4bit-128g\n",
            "100% 2.08k/2.08k [00:00<00:00, 2.81MiB/s]\n",
            "100% 558/558 [00:00<00:00, 641kiB/s]\n",
            "100% 137/137 [00:00<00:00, 141kiB/s]\n",
            " 44% 3.22G/7.26G [00:59<01:03, 63.2MiB/s]"
          ]
        }
      ],
      "source": [
        "#@title 3. Launch\n",
        "import json\n",
        "from IPython.display import clear_output\n",
        "\n",
        "# Parameters\n",
        "model = \"TheBloke/gpt4-alpaca-lora-13B-GPTQ-4bit-128g\" #@param [\"TheBloke/koala-13B-GPTQ-4bit-128g\", \"TheBloke/gpt4-alpaca-lora-13B-GPTQ-4bit-128g\"] {allow-input: true}\n",
        "chat = True #@param {type:\"boolean\"}\n",
        "\n",
        "model_dir = '/content/text-generation-webui/models'\n",
        "repo_dir = '/content/text-generation-webui'\n",
        "\n",
        "params = set()\n",
        "\n",
        "%cd {repo_dir}\n",
        "\n",
        "download = f\"[[ ! -f models/$model/config.json ]] && python download-model.py {model}\"\n",
        "\n",
        "print(download)\n",
        "!$download\n",
        "\n",
        "if chat:\n",
        "  params.add('--chat')\n",
        "\n",
        "# Starting the web UI\n",
        "cmd = f\"python server.py --auto-launch --bf16 --model-menu --share {' '.join(params)} --settings settings-colab.json\"\n",
        "\n",
        "!nvidia-smi\n",
        "print(cmd)\n",
        "\n",
        "!$cmd\n"
      ]
    },
    {
      "cell_type": "code",
      "execution_count": null,
      "metadata": {
        "colab": {
          "base_uri": "https://localhost:8080/"
        },
        "id": "wDLUEv5xGmEJ",
        "outputId": "2ac79ecb-ce31-4824-e731-77f132fada72"
      },
      "outputs": [
        {
          "name": "stdout",
          "output_type": "stream",
          "text": [
            "/content/text-generation-webui\n",
            "On branch main\n",
            "Your branch is up to date with 'origin/main'.\n",
            "\n",
            "Untracked files:\n",
            "  (use \"git add <file>...\" to include in what will be committed)\n",
            "\t\u001b[31msettings-colab-template.json\u001b[m\n",
            "\n",
            "nothing added to commit but untracked files present (use \"git add\" to track)\n",
            "From https://github.com/oobabooga/text-generation-webui\n",
            " * branch            HEAD       -> FETCH_HEAD\n",
            "Already up to date.\n"
          ]
        }
      ],
      "source": [
        "#@title 4. Update?\n",
        "\n",
        "%cd /content/text-generation-webui\n",
        "!git status\n",
        "!git pull https://github.com/oobabooga/text-generation-webui"
      ]
    },
    {
      "cell_type": "code",
      "execution_count": null,
      "metadata": {
        "cellView": "form",
        "colab": {
          "base_uri": "https://localhost:8080/"
        },
        "id": "xkDjS3c8Pr_3",
        "outputId": "3bd011e7-eee9-40e0-f558-a6ee3601da36"
      },
      "outputs": [
        {
          "name": "stdout",
          "output_type": "stream",
          "text": [
            "--2023-04-21 09:14:27--  https://github.com/pcrii/Philo-Colab-Collection/raw/main/llama.json\n",
            "Resolving github.com (github.com)... 140.82.121.3\n",
            "Connecting to github.com (github.com)|140.82.121.3|:443... connected.\n",
            "HTTP request sent, awaiting response... 302 Found\n",
            "Location: https://raw.githubusercontent.com/pcrii/Philo-Colab-Collection/main/llama.json [following]\n",
            "--2023-04-21 09:14:28--  https://raw.githubusercontent.com/pcrii/Philo-Colab-Collection/main/llama.json\n",
            "Resolving raw.githubusercontent.com (raw.githubusercontent.com)... 185.199.108.133, 185.199.109.133, 185.199.110.133, ...\n",
            "Connecting to raw.githubusercontent.com (raw.githubusercontent.com)|185.199.108.133|:443... connected.\n",
            "HTTP request sent, awaiting response... 200 OK\n",
            "Length: 4475 (4.4K) [text/plain]\n",
            "Saving to: ‘llama.json’\n",
            "\n",
            "llama.json          100%[===================>]   4.37K  --.-KB/s    in 0s      \n",
            "\n",
            "2023-04-21 09:14:28 (63.0 MB/s) - ‘llama.json’ saved [4475/4475]\n",
            "\n"
          ]
        }
      ],
      "source": [
        "#@title optional install \"LLaMa\" character file i found on reddit\n",
        "!wget https://github.com/pcrii/Philo-Colab-Collection/raw/main/llama.json \n",
        "!mv llama.json {repo_dir}/characters\n"
      ]
    }
  ],
  "metadata": {
    "accelerator": "GPU",
    "colab": {
      "provenance": [],
      "include_colab_link": true
    },
    "gpuClass": "standard",
    "kernelspec": {
      "display_name": "Python 3",
      "name": "python3"
    },
    "language_info": {
      "name": "python"
    }
  },
  "nbformat": 4,
  "nbformat_minor": 0
}